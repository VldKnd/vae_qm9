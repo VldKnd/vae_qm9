{
 "cells": [
  {
   "cell_type": "code",
   "execution_count": 13,
   "metadata": {},
   "outputs": [],
   "source": [
    "import os\n",
    "import sys\n",
    "import time\n",
    "import rdkit\n",
    "import numpy as np\n",
    "import pandas as pd\n",
    "from sklearn.preprocessing import StandardScaler\n",
    "from tqdm.notebook import tqdm\n",
    "\n",
    "sys.path.insert(0, '../../')\n",
    "\n",
    "from jtnn.mol_tree import *"
   ]
  },
  {
   "cell_type": "code",
   "execution_count": 14,
   "metadata": {},
   "outputs": [],
   "source": [
    "scale_to_pm9 = 27.21"
   ]
  },
  {
   "cell_type": "markdown",
   "metadata": {},
   "source": [
    "## Helper functions"
   ]
  },
  {
   "cell_type": "code",
   "execution_count": 15,
   "metadata": {},
   "outputs": [],
   "source": [
    "lg = rdkit.RDLogger.logger() \n",
    "lg.setLevel(rdkit.RDLogger.CRITICAL)"
   ]
  },
  {
   "cell_type": "code",
   "execution_count": 16,
   "metadata": {},
   "outputs": [],
   "source": [
    "def progressbar(it, prefix=\"\", size=60, file=sys.stdout):\n",
    "    count = len(it)\n",
    "    def show(j):\n",
    "        x = int(size*j/count)\n",
    "        file.write(\"%s[%s%s] %i/%i\\r\" % (prefix, \"#\"*x, \".\"*(size-x), j, count))\n",
    "        file.flush()   \n",
    "        \n",
    "    show(0)\n",
    "    \n",
    "    for i, item in enumerate(it):\n",
    "        yield item\n",
    "        show(i+1)\n",
    "        \n",
    "    file.write(\"\\n\")\n",
    "    file.flush()\n",
    "    \n",
    "def check_in_dict(smiles, cset):\n",
    "    mol = MolTree(smiles)\n",
    "    for c in mol.nodes:\n",
    "        if not c.smiles in cset:\n",
    "            return False\n",
    "    return True"
   ]
  },
  {
   "cell_type": "markdown",
   "metadata": {},
   "source": [
    "## WhitePaper"
   ]
  },
  {
   "cell_type": "code",
   "execution_count": 4,
   "metadata": {},
   "outputs": [
    {
     "name": "stdout",
     "output_type": "stream",
     "text": [
      "Full Zinc Dataset info\n",
      "Train molecules: 220011\n",
      "Test molecules: 5000\n"
     ]
    }
   ],
   "source": [
    "print(\"Full Zinc Dataset info\")\n",
    "print(\"Train molecules\", end=\": \")\n",
    "with open(\"./zinc/train.txt\", \"r\") as f:\n",
    "    print(len(f.readlines()))\n",
    "    \n",
    "print(\"Test molecules\", end=\": \")\n",
    "with open(\"./zinc/test.txt\", \"r\") as f:\n",
    "    print(len(f.readlines()))"
   ]
  },
  {
   "cell_type": "code",
   "execution_count": 5,
   "metadata": {},
   "outputs": [
    {
     "name": "stdout",
     "output_type": "stream",
     "text": [
      "Full QDB9 Dataset info\n",
      "Train molecules: 67591\n",
      "Test molecules: 45116\n"
     ]
    }
   ],
   "source": [
    "print(\"Full QDB9 Dataset info\")\n",
    "print(\"Train molecules\", end=\": \")\n",
    "with open(\"./qdb9/backup/train.txt\", \"r\") as f:\n",
    "    print(len(f.readlines()))\n",
    "    \n",
    "print(\"Test molecules\", end=\": \")\n",
    "with open(\"./qdb9/backup/test.txt\", \"r\") as f:\n",
    "    print(len(f.readlines()))"
   ]
  },
  {
   "cell_type": "code",
   "execution_count": 6,
   "metadata": {},
   "outputs": [
    {
     "name": "stdout",
     "output_type": "stream",
     "text": [
      "Train molecules: 780\n"
     ]
    }
   ],
   "source": [
    "print(\"Train molecules\", end=\": \")\n",
    "with open(\"./zinc/vocab.txt\", \"r\") as f:\n",
    "    vocab = [x.replace(\"\\n\", \"\") for x in f.readlines()]\n",
    "    print(len(vocab))\n",
    "    \n",
    "cset = set(vocab)"
   ]
  },
  {
   "cell_type": "code",
   "execution_count": 7,
   "metadata": {},
   "outputs": [],
   "source": [
    "with open(\"./qdb9/new_qdb9/all_intersect_zinc.txt\", \"r\") as f:\n",
    "    with open(\"./qdb9/new_qdb9/all_intersect_zinc_second.txt\", \"w\") as w:\n",
    "        old_lines = f.readlines()\n",
    "        \n",
    "        try:\n",
    "            while True:\n",
    "                old_lines.remove(\"\\n\")\n",
    "        except ValueError:\n",
    "            pass \n",
    "        \n",
    "        w.write(\"\".join(old_lines))"
   ]
  },
  {
   "cell_type": "code",
   "execution_count": null,
   "metadata": {},
   "outputs": [],
   "source": [
    "print(\"Creating all file without QDB9 unique elements\")\n",
    "with open(\"./qdb9/new_qdb9/all.txt\", \"r\") as f:\n",
    "    with open(\"./qdb9/new_qdb9/all_intersect_zinc.txt\", \"w\") as w:\n",
    "        for i, line in tqdm(enumerate(f.readlines())):\n",
    "            try:\n",
    "                if line == \"\\n\":\n",
    "                    pass\n",
    "                else:\n",
    "                    is_valid = True\n",
    "                    smiles = line.split()[0]\n",
    "                    mol = MolTree(smiles)\n",
    "                    for c in mol.nodes:\n",
    "                        if not c.smiles in cset:\n",
    "                            is_valid = False\n",
    "                            break\n",
    "                        else:\n",
    "                            pass\n",
    "            except IndexError as e:\n",
    "                print(\"index {}, Error: {}\".format(i, e))\n",
    "                pass\n",
    "\n",
    "            if is_valid:\n",
    "                w.write(line)"
   ]
  },
  {
   "cell_type": "code",
   "execution_count": 8,
   "metadata": {},
   "outputs": [
    {
     "name": "stdout",
     "output_type": "stream",
     "text": [
      "Train molecules intersection qdb9 with zinc: 96575\n"
     ]
    }
   ],
   "source": [
    "print(\"Train molecules intersection qdb9 with zinc\", end=\": \")\n",
    "with open(\"./qdb9/new_qdb9/all_intersect_zinc.txt\", \"r\") as f:\n",
    "    vocab = f.readlines()\n",
    "    print(len(vocab))"
   ]
  },
  {
   "cell_type": "code",
   "execution_count": 36,
   "metadata": {},
   "outputs": [],
   "source": [
    "with open(\"./qdb9/new_qdb9/all_intersect_zinc.txt\", \"r\") as f:\n",
    "    db = f.readlines()\n",
    "    \n",
    "    try:\n",
    "        while True:\n",
    "            db.remove(\"\\n\")\n",
    "    except ValueError:\n",
    "        pass    \n",
    "    \n",
    "    db_shuffled = np.copy(db)\n",
    "    np.random.shuffle(db_shuffled)\n",
    "    with open(\"./qdb9/new_qdb9/train_intersect_zinc.txt\", \"w\") as wtrain:\n",
    "        with open(\"./qdb9/new_qdb9/train_intersect_zinc_shuffled.txt\", \"w\") as wtrains:\n",
    "            with open(\"./qdb9/new_qdb9/test_intersect_zinc.txt\", \"w\") as wtest:\n",
    "                with open(\"./qdb9/new_qdb9/test_intersect_zinc_shuffled.txt\", \"w\") as wtests:\n",
    "                    wtrain.write(\"\".join(db[:-5000]))\n",
    "                    wtest.write(\"\".join(db[-5000:]))\n",
    "                    wtrains.write(\"\".join(db_shuffled[:-5000]))\n",
    "                    wtests.write(\"\".join(db_shuffled[-5000:]))"
   ]
  },
  {
   "cell_type": "code",
   "execution_count": 37,
   "metadata": {},
   "outputs": [
    {
     "name": "stdout",
     "output_type": "stream",
     "text": [
      "Train molecules intersection qdb9 with zinc: 91575\n"
     ]
    }
   ],
   "source": [
    "print(\"Train molecules intersection qdb9 with zinc\", end=\": \")\n",
    "with open(\"./qdb9/new_qdb9/train_intersect_zinc.txt\", \"r\") as f:\n",
    "    vocab = f.readlines()\n",
    "    print(len(vocab))"
   ]
  },
  {
   "cell_type": "code",
   "execution_count": 38,
   "metadata": {},
   "outputs": [
    {
     "name": "stdout",
     "output_type": "stream",
     "text": [
      "Train molecules intersection qdb9 with zinc: 5000\n"
     ]
    }
   ],
   "source": [
    "print(\"Train molecules intersection qdb9 with zinc\", end=\": \")\n",
    "with open(\"./qdb9/new_qdb9/test_intersect_zinc.txt\", \"r\") as f:\n",
    "    vocab = f.readlines()\n",
    "    print(len(vocab))"
   ]
  },
  {
   "cell_type": "code",
   "execution_count": null,
   "metadata": {},
   "outputs": [],
   "source": [
    "import sys\n",
    "lg = rdkit.RDLogger.logger() \n",
    "lg.setLevel(rdkit.RDLogger.CRITICAL)\n",
    "\n",
    "qdb9_train = '../qvae/data/qdb9/train.txt'\n",
    "qdb9_test = '../qvae/data/qdb9/test.txt'\n",
    "cset = set()\n",
    "for i, line in tqdm(enumerate(sys.stdin)):\n",
    "    try:\n",
    "        smiles = line.split()[0]\n",
    "        mol = MolTree(smiles)\n",
    "        for c in mol.nodes:\n",
    "            cset.add(c.smiles)\n",
    "    except IndexError as e:\n",
    "        print(\"index {} {}, Error: {}\".format(i, line, e))\n",
    "        pass\n",
    "\n",
    "qdb9_train_zinc = '../qvae/data/qdb9/train_zinc_only.txt'\n",
    "\n",
    "qdb9_test_zinc = '../qvae/data/qdb9/test_zinc_only.txt'\n",
    "\n",
    "qdb9_full_zinc = '../qvae/data/qdb9/all_zinc_only.txt'\n",
    "\n",
    "with open(qdb9_train_zinc, 'w') as train:\n",
    "    with open(qdb9_test_zinc, 'w') as test:\n",
    "        with open(qdb9_full_zinc, 'w') as full:\n",
    "            with open(qdb9_train, \"r\") as qdb9_train:\n",
    "\n",
    "                for i,line in tqdm(enumerate(qdb9_train.readlines())):\n",
    "                    try:\n",
    "                        is_valid = True\n",
    "                        smiles = line.split()[0]\n",
    "                        mol = MolTree(smiles)\n",
    "                        for c in mol.nodes:\n",
    "                            if not c.smiles in  cset:\n",
    "                                is_valid = False\n",
    "                                break\n",
    "                            else:\n",
    "                                pass\n",
    "                    except IndexError as e:\n",
    "                        print(\"index {}, Error: {}\".format(i, e))\n",
    "                        pass\n",
    "\n",
    "                    if is_valid:\n",
    "                        train.write(line)\n",
    "                        full.write(line)\n",
    "\n",
    "            with open(qdb9_test) as qdb9_test:\n",
    "                for i,line in tqdm(enumerate(qdb9_test.readlines())):\n",
    "                    try:\n",
    "                        is_valid = True\n",
    "                        smiles = line.split()[0]\n",
    "                        mol = MolTree(smiles)\n",
    "                        for c in mol.nodes:\n",
    "                            if not c.smiles in  cset:\n",
    "                                is_valid = False\n",
    "                                break\n",
    "                            else:\n",
    "                                pass\n",
    "\n",
    "                        if is_valid:\n",
    "                            test.write(line)\n",
    "                            full.write(line)\n",
    "                    except IndexError as e:\n",
    "                        print(\"index {}, Error: {}\".format(i, e))\n",
    "                        pass\n"
   ]
  },
  {
   "cell_type": "markdown",
   "metadata": {},
   "source": [
    "## Humo Lumo"
   ]
  },
  {
   "cell_type": "code",
   "execution_count": 79,
   "metadata": {},
   "outputs": [],
   "source": [
    "df = pd.read_csv(\"./qdb9/gdb9_prop_smiles.csv\", index_col=0)\n",
    "df = df[[\"mol_id\", 'homo', 'lumo', \"gap\", \"smiles\"]]"
   ]
  },
  {
   "cell_type": "code",
   "execution_count": 80,
   "metadata": {},
   "outputs": [],
   "source": [
    "val_idxes = df.smiles.apply(lambda x: rdkit.Chem.MolFromSmiles(x) != None)\n",
    "df = df[val_idxes]"
   ]
  },
  {
   "cell_type": "code",
   "execution_count": 81,
   "metadata": {},
   "outputs": [],
   "source": [
    "val_idxes = df.smiles.apply(lambda x: check_in_dict(x, cset))\n",
    "df = df[val_idxes]"
   ]
  },
  {
   "cell_type": "code",
   "execution_count": 118,
   "metadata": {},
   "outputs": [],
   "source": [
    "scaler = StandardScaler()\n",
    "df[[\"homo\", \"lumo\", \"gap\"]] = scaler.fit_transform(df[[\"homo\", \"lumo\", \"gap\"]])sample"
   ]
  },
  {
   "cell_type": "code",
   "execution_count": 88,
   "metadata": {},
   "outputs": [],
   "source": [
    "df = df.sample(frac=1)"
   ]
  },
  {
   "cell_type": "code",
   "execution_count": 89,
   "metadata": {},
   "outputs": [],
   "source": [
    "train = df[:-5000]\n",
    "test = df[-5000:]"
   ]
  },
  {
   "cell_type": "code",
   "execution_count": 91,
   "metadata": {},
   "outputs": [],
   "source": [
    "path = \"reg_data/\"\n",
    "train.smiles.to_csv(path + 'train_mols.txt', header=False, index=False)\n",
    "train.homo.to_csv(path + 'train_homo.txt', header=False, index=False)\n",
    "train.lumo.to_csv(path + 'train_lumo.txt', header=False, index=False)\n",
    "train.gap.to_csv(path + 'train_gap.txt', header=False, index=False)\n",
    "\n",
    "test.smiles.to_csv(path + 'test_mols.txt', header=False, index=False)\n",
    "test.homo.to_csv(path + 'test_homo.txt', header=False, index=False)\n",
    "test.lumo.to_csv(path + 'test_lumo.txt', header=False, index=False)\n",
    "test.gap.to_csv(path + 'test_gap.txt', header=False, index=False)\n",
    "\n",
    "pd.DataFrame(list(zip(scaler.mean_, scaler.var_)), columns=['mean', 'var'], index=df.columns[1:4]).to_csv(path+\"info.txt\")"
   ]
  },
  {
   "cell_type": "markdown",
   "metadata": {},
   "source": [
    "## Real Intersection"
   ]
  },
  {
   "cell_type": "code",
   "execution_count": 47,
   "metadata": {},
   "outputs": [],
   "source": [
    "with open(\"zinc/all.txt\",\"r\") as file:\n",
    "    zinc_set = set([x.replace(\"\\n\", \"\").strip() for x in file.readlines()])\n",
    "    \n",
    "with open(\"qdb9/all.txt\", \"r\") as file:\n",
    "    qdb9_set = set([x.replace(\"\\n\", \"\").strip() for x in file.readlines()])"
   ]
  },
  {
   "cell_type": "code",
   "execution_count": 48,
   "metadata": {},
   "outputs": [],
   "source": [
    "qdb9_set_normalized = set([rdkit.Chem.MolToSmiles(rdkit.Chem.MolFromSmiles(smiles)) for smiles in qdb9_set])\n",
    "zinc_set_normalized = set([rdkit.Chem.MolToSmiles(rdkit.Chem.MolFromSmiles(smiles)) for smiles in zinc_set])"
   ]
  },
  {
   "cell_type": "code",
   "execution_count": 68,
   "metadata": {},
   "outputs": [
    {
     "name": "stdout",
     "output_type": "stream",
     "text": [
      "20 molecules affected in ZINC\n",
      "2033 molecules affected in QDB9\n"
     ]
    }
   ],
   "source": [
    "counter=0\n",
    "\n",
    "for mol in zinc_set_normalized:\n",
    "    if mol in zinc_set:\n",
    "        counter+=1\n",
    "        \n",
    "print(\"{} molecules affected in ZINC\".format(len(zinc_set) - counter))\n",
    "\n",
    "counter=0\n",
    "\n",
    "for mol in qdb9_set_normalized:\n",
    "    if mol in qdb9_set:\n",
    "        counter+=1\n",
    "        \n",
    "print(\"{} molecules affected in QDB9\".format(len(qdb9_set) - counter))"
   ]
  },
  {
   "cell_type": "code",
   "execution_count": 59,
   "metadata": {},
   "outputs": [
    {
     "name": "stdout",
     "output_type": "stream",
     "text": [
      "Number of elements common to both datasets\n",
      "\tCounter:0\n",
      "\tZinc: 0%\n",
      "\tQDB9: 0%\n"
     ]
    }
   ],
   "source": [
    "counter = 0\n",
    "for mol in zinc_set:\n",
    "    if mol in qdb9_set:\n",
    "        counter+=1\n",
    "        \n",
    "print(\"Number of elements common to both datasets\\n\\tCounter:{}\\n\\tZinc: {}%\\n\\tQDB9: {}%\".format(counter, \n",
    "                                                                                        int(counter*100/len(zinc_set)), \n",
    "                                                                                        int(counter*100/len(qdb9_set))))"
   ]
  },
  {
   "cell_type": "code",
   "execution_count": 58,
   "metadata": {},
   "outputs": [
    {
     "name": "stdout",
     "output_type": "stream",
     "text": [
      "Number of elements common to both normalized through rdkit datasets\n",
      "\tCounter:0\n",
      "\tZinc: 0%\n",
      "\tQDB9: 0%\n"
     ]
    }
   ],
   "source": [
    "counter = 0\n",
    "for mol in zinc_set_normalized:\n",
    "    if mol in qdb9_set_normalized:\n",
    "        counter+=1\n",
    "        \n",
    "print(\"Number of elements common to both normalized through rdkit datasets\\n\\tCounter:{}\\n\\tZinc: {}%\\n\\tQDB9: {}%\".format(counter, \n",
    "                                                                                                                    int(counter*100/len(zinc_set_normalized)), \n",
    "                                                                                                                    int(counter*100/len(qdb9_set_normalized))))"
   ]
  },
  {
   "cell_type": "code",
   "execution_count": 77,
   "metadata": {},
   "outputs": [
    {
     "name": "stdout",
     "output_type": "stream",
     "text": [
      "Mean:  0.012599628660218397  Var:  0.9720976583714979\n"
     ]
    }
   ],
   "source": [
    "with open(\"reg_data/test_lumo.txt\", \"r\") as f:\n",
    "    lines = f.readlines()\n",
    "    total = [float(x) for x in lines]\n",
    "    print(\"Mean: \", np.mean(total),\" Var: \", np.var(total))"
   ]
  },
  {
   "cell_type": "code",
   "execution_count": 78,
   "metadata": {},
   "outputs": [
    {
     "name": "stdout",
     "output_type": "stream",
     "text": [
      "Mean:  -0.021853699140908463  Var:  0.9937224476477277\n"
     ]
    }
   ],
   "source": [
    "with open(\"reg_data/test_homo.txt\", \"r\") as f:\n",
    "    lines = f.readlines()\n",
    "    total = [float(x) for x in lines]\n",
    "    print(\"Mean: \", np.mean(total),\" Var: \", np.var(total))"
   ]
  },
  {
   "cell_type": "markdown",
   "metadata": {},
   "source": [
    "## CGRTools normalization"
   ]
  },
  {
   "cell_type": "code",
   "execution_count": 24,
   "metadata": {},
   "outputs": [],
   "source": [
    "from CGRtools import SMILESRead, smiles\n",
    "from CGRtools.exceptions import InvalidAromaticRing"
   ]
  },
  {
   "cell_type": "code",
   "execution_count": null,
   "metadata": {},
   "outputs": [],
   "source": [
    "with open(\"./qdb9/all.txt\", 'w') as qdb9:\n",
    "    for i,line in tqdm(enumerate(qdb9_train.readlines())):\n",
    "        try:\n",
    "            is_valid = True\n",
    "            smiles = line.split()[0]\n",
    "            mol = MolTree(smiles)\n",
    "            for c in mol.nodes:\n",
    "                if not c.smiles in  cset:\n",
    "                    is_valid = False\n",
    "                    break\n",
    "                else:\n",
    "                    pass\n",
    "        except IndexError as e:\n",
    "            print(\"index {}, Error: {}\".format(i, e))\n",
    "            pass\n",
    "\n",
    "        if is_valid:\n",
    "            train.write(line)\n",
    "            full.write(line)"
   ]
  },
  {
   "cell_type": "code",
   "execution_count": null,
   "metadata": {},
   "outputs": [],
   "source": [
    "with SMILESRead(\"qdb9/all.txt\") as file:\n",
    "    CGR_qdb9_set = set()\n",
    "    for mol in file:\n",
    "        mol.canonicalize()\n",
    "        CGR_qdb9_set.add(str(mol))"
   ]
  },
  {
   "cell_type": "markdown",
   "metadata": {},
   "source": [
    "To check the QM9 to smiles from database i have used so far\n",
    "\n",
    "    from CGRtools import XYZRead\n",
    "    with XYZRead(\"dsgdb9nsd_000001.xyz\") as f:\n",
    "        data = f.read()[0]\n",
    "        data.implicify_hydrogens()\n",
    "        print(data)"
   ]
  },
  {
   "cell_type": "markdown",
   "metadata": {},
   "source": [
    "Original: C#CC(C)C1(C)OC1C\n",
    "Decoded: C#C[C@H](C)[C@@]1(C)O[C@@H]1C\n",
    "\n",
    "Original: CCOCC(C=O)CO\n",
    "Decoded: CCOC[C@@H](C=O)CO\n",
    "\n",
    "Original: CC1(C)OC2(C)COC12\n",
    "Decoded: CC1(C)O[C@@]2(C)CO[C@H]12\n",
    "\n",
    "Original: OCC(O)C1CC(O)=N1\n",
    "Decoded: OC[C@H](O)[C@H]1CC(O)=N1\n",
    "\n",
    "Original: OCC1(C2CO2)CC1O\n",
    "Decoded: OC[C@]1([C@H]2CO2)C[C@H]1O\n",
    "\n",
    "Original: CC1CCC2(C)CC2O1\n",
    "Decoded: C[C@@H]1CC[C@]2(C)C[C@@H]2O1"
   ]
  },
  {
   "cell_type": "code",
   "execution_count": 1,
   "metadata": {},
   "outputs": [],
   "source": [
    "from CGRtools import SMILESRead, smiles\n",
    "from CGRtools.exceptions import InvalidAromaticRing"
   ]
  },
  {
   "cell_type": "code",
   "execution_count": 6,
   "metadata": {},
   "outputs": [
    {
     "name": "stdout",
     "output_type": "stream",
     "text": [
      "CC1OC1(C(C#C)C)C\n"
     ]
    }
   ],
   "source": [
    "mol = smiles(\"C#C[C@H](C)[C@@]1(C)O[C@@H]1C\")\n",
    "mol.clean_stereo()\n",
    "mol.canonicalize()\n",
    "print(mol)"
   ]
  },
  {
   "cell_type": "code",
   "execution_count": 7,
   "metadata": {},
   "outputs": [
    {
     "name": "stdout",
     "output_type": "stream",
     "text": [
      "CC1OC1(C(C#C)C)C\n"
     ]
    }
   ],
   "source": [
    "mol2 = smiles(\"C#CC(C)C1(C)OC1C\")\n",
    "mol2.clean_stereo()\n",
    "mol2.canonicalize()\n",
    "print(mol2)"
   ]
  },
  {
   "cell_type": "code",
   "execution_count": 8,
   "metadata": {},
   "outputs": [
    {
     "name": "stdout",
     "output_type": "stream",
     "text": [
      "True\n"
     ]
    }
   ],
   "source": [
    "print(mol == mol2)"
   ]
  },
  {
   "cell_type": "code",
   "execution_count": 149,
   "metadata": {},
   "outputs": [
    {
     "name": "stdout",
     "output_type": "stream",
     "text": [
      "C\n",
      "N\n",
      "O\n",
      "C#C\n",
      "C#N\n",
      "O=C\n",
      "CC\n",
      "OC\n",
      "CC#C\n",
      "N#CC\n",
      "O=CC\n",
      "O=CN\n",
      "CCC\n",
      "C(O)C\n",
      "COC\n",
      "C1CC1\n",
      "C1CO1\n",
      "CC(C)=O\n",
      "O=C(N)C\n",
      "NC(N)=O\n",
      "CC(C)C\n",
      "CC(C)O\n",
      "CC#CC\n",
      "C([NH3+])#CC\n"
     ]
    }
   ],
   "source": [
    "from CGRtools import SDFRead\n",
    "with SDFRead(\"./qm9/gdb9.sdf\", indexable=True) as f:\n",
    "    for mol in f[:24]:\n",
    "        mol.implicify_hydrogens()\n",
    "        mol.canonicalize()\n",
    "        print(mol)"
   ]
  },
  {
   "cell_type": "code",
   "execution_count": 30,
   "metadata": {},
   "outputs": [],
   "source": [
    "with open(\"zinc/all.txt\",\"r\") as file:\n",
    "    zinc_set = set([x.replace(\"\\n\", \"\").strip() for x in file.readlines()])"
   ]
  },
  {
   "cell_type": "code",
   "execution_count": 31,
   "metadata": {},
   "outputs": [],
   "source": [
    "with open(\"qdb9/all.txt\", \"r\") as file:\n",
    "    qdb9_set = set([x.replace(\"\\n\", \"\").strip() for x in file.readlines()])"
   ]
  },
  {
   "cell_type": "code",
   "execution_count": 2,
   "metadata": {},
   "outputs": [],
   "source": [
    "with SMILESRead(\"qdb9/all.txt\") as file:\n",
    "    CGR_qdb9_set = set()\n",
    "    for mol in file:\n",
    "        mol.canonicalize()\n",
    "        CGR_qdb9_set.add(str(mol))"
   ]
  },
  {
   "cell_type": "code",
   "execution_count": 38,
   "metadata": {},
   "outputs": [],
   "source": [
    "with SMILESRead(\"zinc/all.txt\", ignore=True) as file:\n",
    "    CGR_zinc_set = set()\n",
    "    try:\n",
    "        for mol in file:\n",
    "            mol.standardize()\n",
    "            CGR_zinc_set.add(str(mol))\n",
    "    except:\n",
    "        pass"
   ]
  },
  {
   "cell_type": "code",
   "execution_count": null,
   "metadata": {},
   "outputs": [],
   "source": [
    "smiles = set()\n",
    "with SMILESRead(\"all.txt\", ignore=True) as f:\n",
    "    for n,i in enumerate(f):\n",
    "        try:\n",
    "            i.canonicalize()\n",
    "        except InvalidAromaticRing:\n",
    "            continue\n",
    "        smiles.add(str(i))\n",
    "        \n",
    "    else:\n",
    "        last = n\n",
    "\n",
    "len(smiles)"
   ]
  },
  {
   "cell_type": "code",
   "execution_count": 39,
   "metadata": {},
   "outputs": [
    {
     "data": {
      "text/plain": [
       "249440"
      ]
     },
     "execution_count": 39,
     "metadata": {},
     "output_type": "execute_result"
    }
   ],
   "source": [
    "len(CGR_zinc_set)"
   ]
  },
  {
   "cell_type": "code",
   "execution_count": 27,
   "metadata": {},
   "outputs": [
    {
     "data": {
      "text/plain": [
       "249456"
      ]
     },
     "execution_count": 27,
     "metadata": {},
     "output_type": "execute_result"
    }
   ],
   "source": [
    "len(zinc_set)"
   ]
  },
  {
   "cell_type": "code",
   "execution_count": 23,
   "metadata": {},
   "outputs": [
    {
     "name": "stdout",
     "output_type": "stream",
     "text": [
      "111529\n",
      "9995\n",
      "51 3070\n"
     ]
    }
   ],
   "source": [
    "print(len(qdb9_set))\n",
    "print(len(CGR_zinc_set.intersection(CGR_zinc_set)))\n",
    "print(len(zinc_set.intersection(CGR_zinc_set)), len(qdb9_set.intersection(CGR_qdb9_set)))"
   ]
  },
  {
   "cell_type": "markdown",
   "metadata": {},
   "source": [
    "# Filtering out non-frequent molecules"
   ]
  },
  {
   "cell_type": "code",
   "execution_count": 6,
   "metadata": {},
   "outputs": [],
   "source": [
    "lg = rdkit.RDLogger.logger() \n",
    "lg.setLevel(rdkit.RDLogger.CRITICAL)"
   ]
  },
  {
   "cell_type": "code",
   "execution_count": 10,
   "metadata": {},
   "outputs": [
    {
     "data": {
      "text/plain": [
       "133885"
      ]
     },
     "execution_count": 10,
     "metadata": {},
     "output_type": "execute_result"
    }
   ],
   "source": [
    "len(all_data)"
   ]
  },
  {
   "cell_type": "code",
   "execution_count": null,
   "metadata": {},
   "outputs": [],
   "source": []
  },
  {
   "cell_type": "code",
   "execution_count": 7,
   "metadata": {},
   "outputs": [
    {
     "name": "stdout",
     "output_type": "stream",
     "text": [
      "QDB9 prunned vocabulary: 331\n"
     ]
    }
   ],
   "source": [
    "print(\"QDB9 prunned vocabulary\", end=\": \")\n",
    "with open(\"./qdb9/vocab_prunned_10.txt\", \"r\") as f:\n",
    "    vocab = [x.replace(\"\\n\", \"\") for x in f.readlines()]\n",
    "    print(len(vocab))\n",
    "    \n",
    "cset = set(vocab)"
   ]
  },
  {
   "cell_type": "code",
   "execution_count": 8,
   "metadata": {},
   "outputs": [],
   "source": [
    "all_data = pd.read_csv('./qdb9/gdb9_prop_smiles.csv', index_col=0)\n",
    "all_data = all_data.loc[:, [\"mol_id\", \"lumo\", \"homo\", \"smiles\"]]"
   ]
  },
  {
   "cell_type": "code",
   "execution_count": 9,
   "metadata": {},
   "outputs": [],
   "source": [
    "def check_rdkit_validity(mol):\n",
    "    try:\n",
    "        rdkit.Chem.MolToSmiles(rdkit.Chem.MolFromSmiles(mol))\n",
    "        return True\n",
    "    except:\n",
    "        return False\n",
    "\n",
    "def check_vocab_validity(smiles, vocab):\n",
    "    mol = MolTree(smiles)\n",
    "    \n",
    "    for c in mol.nodes:\n",
    "        if c.smiles not in vocab:\n",
    "            return False\n",
    "        \n",
    "    return True\n",
    "        \n",
    "def normalize(smiles_str):\n",
    "    mol = smiles(smiles_str)\n",
    "    mol.canonicalize()\n",
    "    return mol"
   ]
  },
  {
   "cell_type": "code",
   "execution_count": 135,
   "metadata": {},
   "outputs": [],
   "source": [
    "smiles_valid_idxes = all_data.smiles.apply(lambda x: check_rdkit_validity(x))"
   ]
  },
  {
   "cell_type": "code",
   "execution_count": 136,
   "metadata": {},
   "outputs": [],
   "source": [
    "all_data = all_data.loc[smiles_valid_idxes, :]"
   ]
  },
  {
   "cell_type": "code",
   "execution_count": 137,
   "metadata": {},
   "outputs": [],
   "source": [
    "prunned_vocab_idxes = all_data.smiles.apply(lambda x: check_vocab_validity(x, cset))"
   ]
  },
  {
   "cell_type": "code",
   "execution_count": 138,
   "metadata": {},
   "outputs": [],
   "source": [
    "all_data = all_data.loc[prunned_vocab_idxes, :]"
   ]
  },
  {
   "cell_type": "code",
   "execution_count": 139,
   "metadata": {},
   "outputs": [],
   "source": [
    "all_data.lumo = all_data.lumo*scale_to_pm9\n",
    "all_data.homo = all_data.homo*scale_to_pm9"
   ]
  },
  {
   "cell_type": "code",
   "execution_count": 140,
   "metadata": {},
   "outputs": [],
   "source": [
    "qdb9_smiles_canonized = all_data.smiles.apply(lambda x: normalize(x))"
   ]
  },
  {
   "cell_type": "code",
   "execution_count": 11,
   "metadata": {},
   "outputs": [
    {
     "ename": "NameError",
     "evalue": "name 'qdb9' is not defined",
     "output_type": "error",
     "traceback": [
      "\u001b[0;31m\u001b[0m",
      "\u001b[0;31mNameError\u001b[0mTraceback (most recent call last)",
      "\u001b[0;32m<ipython-input-11-2604c6cea3f3>\u001b[0m in \u001b[0;36m<module>\u001b[0;34m\u001b[0m\n\u001b[0;32m----> 1\u001b[0;31m \u001b[0mqdb9\u001b[0m\u001b[0;34m\u001b[0m\u001b[0;34m\u001b[0m\u001b[0m\n\u001b[0m",
      "\u001b[0;31mNameError\u001b[0m: name 'qdb9' is not defined"
     ]
    }
   ],
   "source": [
    "qdb9"
   ]
  },
  {
   "cell_type": "code",
   "execution_count": 141,
   "metadata": {},
   "outputs": [
    {
     "name": "stdout",
     "output_type": "stream",
     "text": [
      "Intersection between canonized QDB9 and ZINC: 0\n",
      "Intersection between non-canonized QDB9 and ZINC: 0\n"
     ]
    }
   ],
   "source": [
    "qdb9 = set(list(qdb9_smiles_canonized))\n",
    "\n",
    "zinc = set()\n",
    "with open(\"./zinc/zinc_all_canon.txt\", \"r\") as f:\n",
    "    for mol in [x.replace(\"\\n\", \"\") for x in f.readlines()]:\n",
    "        zinc.add(mol)\n",
    "        \n",
    "print(\"Intersection between canonized QDB9 and ZINC: {}\".format(len(qdb9.intersection(zinc))))\n",
    "print(\"Intersection between non-canonized QDB9 and ZINC: {}\".format(len(set(list(all_data.smiles)).intersection(zinc))))"
   ]
  },
  {
   "cell_type": "markdown",
   "metadata": {},
   "source": [
    "## Lets extract zinc that is in the prunned qdb9 vocab"
   ]
  },
  {
   "cell_type": "code",
   "execution_count": null,
   "metadata": {},
   "outputs": [],
   "source": []
  },
  {
   "cell_type": "code",
   "execution_count": null,
   "metadata": {},
   "outputs": [],
   "source": [
    "zinc_db = pd.Series(list(zinc))\n",
    "zinc_prunned_indexes = zinc_db.apply(lambda x: check_vocab_validity(x, cset))\n",
    "zinc_db.rename(\"smiles\", inplace=True)"
   ]
  },
  {
   "cell_type": "markdown",
   "metadata": {},
   "source": [
    "### Saving the resulting files for training"
   ]
  },
  {
   "cell_type": "code",
   "execution_count": 152,
   "metadata": {},
   "outputs": [],
   "source": [
    "all_data.loc[\"smiles\"] = qdb9_smiles_canonized\n",
    "zinc_db_prunned = zinc_db[zinc_prunned_indexes]"
   ]
  },
  {
   "cell_type": "code",
   "execution_count": 153,
   "metadata": {},
   "outputs": [],
   "source": [
    "all_data = all_data.dropna()\n",
    "zinc_db_prunned = zinc_db_prunned.dropna()"
   ]
  },
  {
   "cell_type": "code",
   "execution_count": null,
   "metadata": {},
   "outputs": [],
   "source": [
    "#all_data.to_csv(\"qdb9/prunned/qdb9/qdb9_prunned.csv\", header=None, index=None)\n",
    "#pd.Series(vocab).to_csv(\"qdb9/prunned/vocab.txt\", header=None, index=None)"
   ]
  },
  {
   "cell_type": "code",
   "execution_count": 1,
   "metadata": {},
   "outputs": [],
   "source": [
    "import pandas as pd"
   ]
  },
  {
   "cell_type": "code",
   "execution_count": 14,
   "metadata": {},
   "outputs": [],
   "source": [
    "all_data = pd.read_csv(\"qdb9/prunned/qdb9/qdb9_prunned.csv\", header=None)\n",
    "all_data.columns = [\"mol_id\", \"lumo\", \"homo\", \"smiles\"]"
   ]
  },
  {
   "cell_type": "code",
   "execution_count": 20,
   "metadata": {},
   "outputs": [
    {
     "data": {
      "text/plain": [
       "-6.616149834752479"
      ]
     },
     "execution_count": 20,
     "metadata": {},
     "output_type": "execute_result"
    }
   ],
   "source": [
    "all_data.homo.mean()"
   ]
  },
  {
   "cell_type": "markdown",
   "metadata": {},
   "source": [
    "Splitting train-test-validation"
   ]
  },
  {
   "cell_type": "code",
   "execution_count": 36,
   "metadata": {},
   "outputs": [],
   "source": [
    "from sklearn.model_selection import train_test_split\n",
    "qdb9_train_X, qdb9_test_X = train_test_split(all_data, test_size=0.05)\n",
    "qdb9_test_X, qdb9_val_X = train_test_split(qdb9_test_X, test_size=0.1)"
   ]
  },
  {
   "cell_type": "code",
   "execution_count": 155,
   "metadata": {},
   "outputs": [],
   "source": [
    "qdb9_train_X.smiles.to_csv(\"qdb9/prunned/qdb9/train_smiles.txt\", header=None, index=None)\n",
    "qdb9_train_X.homo.to_csv(\"qdb9/prunned/qdb9/train_homo.txt\", header=None, index=None)\n",
    "qdb9_train_X.homo.to_csv(\"qdb9/prunned/qdb9/train_lumo.txt\", header=None, index=None)\n",
    "\n",
    "qdb9_test_X.smiles.to_csv(\"qdb9/prunned/qdb9/test_smiles.txt\", header=None, index=None)\n",
    "qdb9_test_X.homo.to_csv(\"qdb9/prunned/qdb9/test_homo.txt\", header=None, index=None)\n",
    "qdb9_test_X.homo.to_csv(\"qdb9/prunned/qdb9/test_lumo.txt\", header=None, index=None)\n",
    "\n",
    "qdb9_val_X.smiles.to_csv(\"qdb9/prunned/qdb9/val_smiles.txt\", header=None, index=None)\n",
    "qdb9_val_X.homo.to_csv(\"qdb9/prunned/qdb9/val_homo.txt\", header=None, index=None)\n",
    "qdb9_val_X.homo.to_csv(\"qdb9/prunned/qdb9/val_lumo.txt\", header=None, index=None)"
   ]
  },
  {
   "cell_type": "code",
   "execution_count": 156,
   "metadata": {},
   "outputs": [],
   "source": [
    "zinc_qdb9 = set([*list(all_data.smiles), *list(zinc_db_prunned)])\n",
    "zinc_qdb9 = pd.Series(list(zinc_qdb9))"
   ]
  },
  {
   "cell_type": "code",
   "execution_count": 157,
   "metadata": {},
   "outputs": [],
   "source": [
    "zinc_qdb9_train_X, zinc_qdb9_test_X = train_test_split(zinc_qdb9, test_size=0.05)\n",
    "zinc_qdb9_test_X, zinc_qdb9_val_X = train_test_split(zinc_qdb9_test_X, test_size=0.1)"
   ]
  },
  {
   "cell_type": "code",
   "execution_count": 160,
   "metadata": {},
   "outputs": [],
   "source": [
    "zinc_qdb9_train_X.to_csv(\"qdb9/prunned/qdb9+zinc/train_smiles.txt\", header=None, index=None)\n",
    "zinc_qdb9_test_X.to_csv(\"qdb9/prunned/qdb9+zinc/test_smiles.txt\", header=None, index=None)\n",
    "zinc_qdb9_val_X.to_csv(\"qdb9/prunned/qdb9+zinc/val_smiles.txt\", header=None, index=None)\n",
    "zinc_db_prunned.to_csv(\"qdb9/prunned/qdb9+zinc/zinc_prunned.txt\", header=None, index=None)"
   ]
  }
 ],
 "metadata": {
  "kernelspec": {
   "display_name": "rdkit-env",
   "language": "python",
   "name": "rdkit-env"
  },
  "language_info": {
   "codemirror_mode": {
    "name": "ipython",
    "version": 3
   },
   "file_extension": ".py",
   "mimetype": "text/x-python",
   "name": "python",
   "nbconvert_exporter": "python",
   "pygments_lexer": "ipython3",
   "version": "3.7.10"
  }
 },
 "nbformat": 4,
 "nbformat_minor": 4
}
